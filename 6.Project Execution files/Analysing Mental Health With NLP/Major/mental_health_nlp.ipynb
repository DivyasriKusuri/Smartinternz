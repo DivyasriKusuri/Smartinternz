{
 "cells": [
  {
   "cell_type": "code",
   "execution_count": 3,
   "id": "262de0fd-d206-4632-a27b-dac13d8bb0bb",
   "metadata": {},
   "outputs": [
    {
     "name": "stderr",
     "output_type": "stream",
     "text": [
      "[nltk_data] Downloading package stopwords to\n",
      "[nltk_data]     C:\\Users\\kusur\\AppData\\Roaming\\nltk_data...\n",
      "[nltk_data]   Package stopwords is already up-to-date!\n",
      "[nltk_data] Downloading package punkt to\n",
      "[nltk_data]     C:\\Users\\kusur\\AppData\\Roaming\\nltk_data...\n",
      "[nltk_data]   Package punkt is already up-to-date!\n"
     ]
    }
   ],
   "source": [
    "import numpy as np\n",
    "import pandas as pd\n",
    "import matplotlib.pyplot as plt\n",
    "import seaborn as sns\n",
    "import nltk #spacy\n",
    "import re #removing the special characters\n",
    "nltk.download('stopwords')\n",
    "from nltk.corpus import stopwords\n",
    "from nltk.stem import WordNetLemmatizer\n",
    "nltk.download(\"punkt\")\n",
    "from nltk.tokenize import word_tokenize\n",
    "from sklearn.feature_extraction.text import TfidfVectorizer"
   ]
  },
  {
   "cell_type": "code",
   "execution_count": 4,
   "id": "9085365e-2719-4477-9ffb-6a3505cfafeb",
   "metadata": {},
   "outputs": [
    {
     "data": {
      "text/html": [
       "<div>\n",
       "<style scoped>\n",
       "    .dataframe tbody tr th:only-of-type {\n",
       "        vertical-align: middle;\n",
       "    }\n",
       "\n",
       "    .dataframe tbody tr th {\n",
       "        vertical-align: top;\n",
       "    }\n",
       "\n",
       "    .dataframe thead th {\n",
       "        text-align: right;\n",
       "    }\n",
       "</style>\n",
       "<table border=\"1\" class=\"dataframe\">\n",
       "  <thead>\n",
       "    <tr style=\"text-align: right;\">\n",
       "      <th></th>\n",
       "      <th>text</th>\n",
       "      <th>label</th>\n",
       "    </tr>\n",
       "  </thead>\n",
       "  <tbody>\n",
       "    <tr>\n",
       "      <th>0</th>\n",
       "      <td>dear american teens question dutch person hear...</td>\n",
       "      <td>0</td>\n",
       "    </tr>\n",
       "    <tr>\n",
       "      <th>1</th>\n",
       "      <td>nothing look forward lifei dont many reasons k...</td>\n",
       "      <td>1</td>\n",
       "    </tr>\n",
       "    <tr>\n",
       "      <th>2</th>\n",
       "      <td>music recommendations im looking expand playli...</td>\n",
       "      <td>0</td>\n",
       "    </tr>\n",
       "    <tr>\n",
       "      <th>3</th>\n",
       "      <td>im done trying feel betterthe reason im still ...</td>\n",
       "      <td>1</td>\n",
       "    </tr>\n",
       "    <tr>\n",
       "      <th>4</th>\n",
       "      <td>worried  year old girl subject domestic physic...</td>\n",
       "      <td>1</td>\n",
       "    </tr>\n",
       "    <tr>\n",
       "      <th>...</th>\n",
       "      <td>...</td>\n",
       "      <td>...</td>\n",
       "    </tr>\n",
       "    <tr>\n",
       "      <th>27972</th>\n",
       "      <td>posting everyday people stop caring  religion ...</td>\n",
       "      <td>0</td>\n",
       "    </tr>\n",
       "    <tr>\n",
       "      <th>27973</th>\n",
       "      <td>okay definetly need hear guys opinion ive pret...</td>\n",
       "      <td>0</td>\n",
       "    </tr>\n",
       "    <tr>\n",
       "      <th>27974</th>\n",
       "      <td>cant get dog think ill kill myselfthe last thi...</td>\n",
       "      <td>1</td>\n",
       "    </tr>\n",
       "    <tr>\n",
       "      <th>27975</th>\n",
       "      <td>whats point princess bridei really think like ...</td>\n",
       "      <td>1</td>\n",
       "    </tr>\n",
       "    <tr>\n",
       "      <th>27976</th>\n",
       "      <td>got nudes person might might know snapchat do ...</td>\n",
       "      <td>0</td>\n",
       "    </tr>\n",
       "  </tbody>\n",
       "</table>\n",
       "<p>27977 rows × 2 columns</p>\n",
       "</div>"
      ],
      "text/plain": [
       "                                                    text  label\n",
       "0      dear american teens question dutch person hear...      0\n",
       "1      nothing look forward lifei dont many reasons k...      1\n",
       "2      music recommendations im looking expand playli...      0\n",
       "3      im done trying feel betterthe reason im still ...      1\n",
       "4      worried  year old girl subject domestic physic...      1\n",
       "...                                                  ...    ...\n",
       "27972  posting everyday people stop caring  religion ...      0\n",
       "27973  okay definetly need hear guys opinion ive pret...      0\n",
       "27974  cant get dog think ill kill myselfthe last thi...      1\n",
       "27975  whats point princess bridei really think like ...      1\n",
       "27976  got nudes person might might know snapchat do ...      0\n",
       "\n",
       "[27977 rows x 2 columns]"
      ]
     },
     "execution_count": 4,
     "metadata": {},
     "output_type": "execute_result"
    }
   ],
   "source": [
    "df = pd.read_csv('mental_health.csv')\n",
    "df"
   ]
  },
  {
   "cell_type": "code",
   "execution_count": 5,
   "id": "75fd98bd-e05c-4907-b16f-f61d8358bb8c",
   "metadata": {},
   "outputs": [
    {
     "data": {
      "text/plain": [
       "(27977, 2)"
      ]
     },
     "execution_count": 5,
     "metadata": {},
     "output_type": "execute_result"
    }
   ],
   "source": [
    "df.shape"
   ]
  },
  {
   "cell_type": "code",
   "execution_count": 6,
   "id": "6377a079-93e7-42a7-bd1d-12da00a4d345",
   "metadata": {},
   "outputs": [
    {
     "data": {
      "text/plain": [
       "text     object\n",
       "label     int64\n",
       "dtype: object"
      ]
     },
     "execution_count": 6,
     "metadata": {},
     "output_type": "execute_result"
    }
   ],
   "source": [
    "df.dtypes"
   ]
  },
  {
   "cell_type": "code",
   "execution_count": 7,
   "id": "749ca635-48ef-4864-bb05-889d2ee803af",
   "metadata": {},
   "outputs": [
    {
     "data": {
      "text/plain": [
       "text     0\n",
       "label    0\n",
       "dtype: int64"
      ]
     },
     "execution_count": 7,
     "metadata": {},
     "output_type": "execute_result"
    }
   ],
   "source": [
    "df.isnull().sum()"
   ]
  },
  {
   "cell_type": "code",
   "execution_count": 8,
   "id": "c3f520c2-aba2-4ba4-8831-8a8106a7a4cf",
   "metadata": {},
   "outputs": [
    {
     "data": {
      "text/plain": [
       "5"
      ]
     },
     "execution_count": 8,
     "metadata": {},
     "output_type": "execute_result"
    }
   ],
   "source": [
    "df.duplicated().sum()"
   ]
  },
  {
   "cell_type": "code",
   "execution_count": 9,
   "id": "72940d53-51d3-4f88-824f-ba569fdd174d",
   "metadata": {},
   "outputs": [
    {
     "name": "stdout",
     "output_type": "stream",
     "text": [
      "Number of Duplicates:  0\n"
     ]
    }
   ],
   "source": [
    "df = df.drop_duplicates()\n",
    "print('Number of Duplicates: ', len(df[df.duplicated()]))"
   ]
  },
  {
   "cell_type": "code",
   "execution_count": 10,
   "id": "0b2abe8d-52ba-46c0-8b8a-b0b7a05406e3",
   "metadata": {},
   "outputs": [
    {
     "data": {
      "text/plain": [
       "label\n",
       "0    14134\n",
       "1    13838\n",
       "Name: count, dtype: int64"
      ]
     },
     "execution_count": 10,
     "metadata": {},
     "output_type": "execute_result"
    }
   ],
   "source": [
    "df['label'].value_counts()"
   ]
  },
  {
   "cell_type": "code",
   "execution_count": 11,
   "id": "1b6f1241-bd67-478e-9575-7c5db8c4341c",
   "metadata": {},
   "outputs": [
    {
     "data": {
      "text/html": [
       "<div>\n",
       "<style scoped>\n",
       "    .dataframe tbody tr th:only-of-type {\n",
       "        vertical-align: middle;\n",
       "    }\n",
       "\n",
       "    .dataframe tbody tr th {\n",
       "        vertical-align: top;\n",
       "    }\n",
       "\n",
       "    .dataframe thead th {\n",
       "        text-align: right;\n",
       "    }\n",
       "</style>\n",
       "<table border=\"1\" class=\"dataframe\">\n",
       "  <thead>\n",
       "    <tr style=\"text-align: right;\">\n",
       "      <th></th>\n",
       "      <th>text</th>\n",
       "      <th>label</th>\n",
       "    </tr>\n",
       "  </thead>\n",
       "  <tbody>\n",
       "    <tr>\n",
       "      <th>count</th>\n",
       "      <td>27972</td>\n",
       "      <td>27972.000000</td>\n",
       "    </tr>\n",
       "    <tr>\n",
       "      <th>unique</th>\n",
       "      <td>27972</td>\n",
       "      <td>NaN</td>\n",
       "    </tr>\n",
       "    <tr>\n",
       "      <th>top</th>\n",
       "      <td>dear american teens question dutch person hear...</td>\n",
       "      <td>NaN</td>\n",
       "    </tr>\n",
       "    <tr>\n",
       "      <th>freq</th>\n",
       "      <td>1</td>\n",
       "      <td>NaN</td>\n",
       "    </tr>\n",
       "    <tr>\n",
       "      <th>mean</th>\n",
       "      <td>NaN</td>\n",
       "      <td>0.494709</td>\n",
       "    </tr>\n",
       "    <tr>\n",
       "      <th>std</th>\n",
       "      <td>NaN</td>\n",
       "      <td>0.499981</td>\n",
       "    </tr>\n",
       "    <tr>\n",
       "      <th>min</th>\n",
       "      <td>NaN</td>\n",
       "      <td>0.000000</td>\n",
       "    </tr>\n",
       "    <tr>\n",
       "      <th>25%</th>\n",
       "      <td>NaN</td>\n",
       "      <td>0.000000</td>\n",
       "    </tr>\n",
       "    <tr>\n",
       "      <th>50%</th>\n",
       "      <td>NaN</td>\n",
       "      <td>0.000000</td>\n",
       "    </tr>\n",
       "    <tr>\n",
       "      <th>75%</th>\n",
       "      <td>NaN</td>\n",
       "      <td>1.000000</td>\n",
       "    </tr>\n",
       "    <tr>\n",
       "      <th>max</th>\n",
       "      <td>NaN</td>\n",
       "      <td>1.000000</td>\n",
       "    </tr>\n",
       "  </tbody>\n",
       "</table>\n",
       "</div>"
      ],
      "text/plain": [
       "                                                     text         label\n",
       "count                                               27972  27972.000000\n",
       "unique                                              27972           NaN\n",
       "top     dear american teens question dutch person hear...           NaN\n",
       "freq                                                    1           NaN\n",
       "mean                                                  NaN      0.494709\n",
       "std                                                   NaN      0.499981\n",
       "min                                                   NaN      0.000000\n",
       "25%                                                   NaN      0.000000\n",
       "50%                                                   NaN      0.000000\n",
       "75%                                                   NaN      1.000000\n",
       "max                                                   NaN      1.000000"
      ]
     },
     "execution_count": 11,
     "metadata": {},
     "output_type": "execute_result"
    }
   ],
   "source": [
    "df.describe(include='all')"
   ]
  },
  {
   "cell_type": "code",
   "execution_count": 12,
   "id": "85eade5a-8c67-466a-bc16-c725d29b6e15",
   "metadata": {},
   "outputs": [
    {
     "data": {
      "text/plain": [
       "([<matplotlib.patches.Wedge at 0x2c11bb73e30>,\n",
       "  <matplotlib.patches.Wedge at 0x2c11cd11430>],\n",
       " [Text(-0.6929627276044373, -0.8542848811438832, '0'),\n",
       "  Text(0.7244611170241917, 0.8931159442760277, '1')],\n",
       " [Text(-0.3779796696024203, -0.46597357153302715, '50.5%'),\n",
       "  Text(0.4094780226658475, 0.5048046641560157, '49.5%')])"
      ]
     },
     "execution_count": 12,
     "metadata": {},
     "output_type": "execute_result"
    },
    {
     "data": {
      "image/png": "[encoded data removed]",
      "text/plain": [
       "<Figure size 500x600 with 1 Axes>"
      ]
     },
     "metadata": {},
     "output_type": "display_data"
    }
   ],
   "source": [
    "plt.figure(figsize=(5,6))\n",
    "plt.pie(df['label'].value_counts(),labels = df['label'].value_counts().index,autopct='%1.1f%%',explode=[0, 0.05],startangle=140)"
   ]
  },
  {
   "cell_type": "code",
   "execution_count": 13,
   "id": "e3150dcc-941c-4707-9911-6e9f86ec74b3",
   "metadata": {},
   "outputs": [],
   "source": [
    "def remove_stopwords(sentence):\n",
    "    #list of stopwords\n",
    "    stopwords = [\"a\", \"about\", \"above\", \"after\", \"again\", \"against\", \"all\", \"am\", \"an\", \"and\", \"any\", \n",
    "                 \"are\", \"as\", \"at\", \"be\", \"because\", \"been\", \"before\", \"being\", \"below\", \"between\",\n",
    "                 \"both\", \"but\", \"by\", \"could\", \"did\", \"do\", \"does\", \"doing\", \"down\", \"during\", \"each\",\n",
    "                 \"few\", \"for\", \"from\", \"further\", \"had\", \"has\", \"have\", \"having\", \"he\", \"he'd\", \"he'll\",\n",
    "                 \"he's\", \"her\", \"here\", \"here's\", \"hers\", \"herself\", \"him\", \"himself\", \"his\", \"how\", \"how's\",\n",
    "                 \"i\", \"i'd\", \"i'll\", \"i'm\", \"i've\", \"if\", \"in\", \"into\", \"is\", \"it\", \"it's\", \"its\", \"itself\",\n",
    "                 \"let's\", \"me\", \"more\", \"most\", \"my\", \"myself\", \"nor\", \"of\", \"on\", \"once\", \"only\", \"or\", \n",
    "                 \"other\", \"ought\", \"our\", \"ours\", \"ourselves\", \"out\", \"over\", \"own\", \"same\", \"she\",\n",
    "                 \"she'd\", \"she'll\", \"she's\", \"should\", \"so\", \"some\", \"such\", \"than\", \"that\", \"that's\",\n",
    "                 \"the\", \"their\", \"theirs\", \"them\", \"themselves\", \"then\", \"there\", \"there's\", \"these\",\n",
    "                 \"they\", \"they'd\", \"they'll\", \"they're\", \"they've\", \"this\", \"those\", \"through\", \"to\",\n",
    "                 \"too\", \"under\", \"until\", \"up\", \"very\", \"was\", \"we\", \"we'd\", \"we'll\", \"we're\", \"we've\",\n",
    "                 \"were\", \"what\", \"what's\", \"when\", \"when's\", \"where\", \"where's\", \"which\", \"while\", \"who\",\n",
    "                 \"who's\" \"whom\", \"why\", \"why's\", \"with\", \"would\", \"you\", \"you'd\", \"you'll\", \"you're\",\n",
    "                 \"you've\", \"your\", \"yours\", \"yourself\", \"yourselves\"]\n",
    "\n",
    "    #Sentence converted to lower case only\n",
    "    sentence = sentence.lower()\n",
    "\n",
    "    words = sentence.split()\n",
    "    no_words = [w for w in words if w not in stopwords]\n",
    "    sentence = \" \".join(no_words)\n",
    "\n",
    "    return sentence"
   ]
  },
  {
   "cell_type": "code",
   "execution_count": 14,
   "id": "0f6dc8b0-cce8-463f-8c9e-04a6c3466c41",
   "metadata": {},
   "outputs": [
    {
     "name": "stderr",
     "output_type": "stream",
     "text": [
      "C:\\Users\\kusur\\AppData\\Local\\Temp\\ipykernel_13668\\3521422308.py:2: SettingWithCopyWarning: \n",
      "A value is trying to be set on a copy of a slice from a DataFrame.\n",
      "Try using .loc[row_indexer,col_indexer] = value instead\n",
      "\n",
      "See the caveats in the documentation: https://pandas.pydata.org/pandas-docs/stable/user_guide/indexing.html#returning-a-view-versus-a-copy\n",
      "  df['text1'] = (df['text'].apply(remove_stopwords))\n"
     ]
    },
    {
     "data": {
      "text/html": [
       "<div>\n",
       "<style scoped>\n",
       "    .dataframe tbody tr th:only-of-type {\n",
       "        vertical-align: middle;\n",
       "    }\n",
       "\n",
       "    .dataframe tbody tr th {\n",
       "        vertical-align: top;\n",
       "    }\n",
       "\n",
       "    .dataframe thead th {\n",
       "        text-align: right;\n",
       "    }\n",
       "</style>\n",
       "<table border=\"1\" class=\"dataframe\">\n",
       "  <thead>\n",
       "    <tr style=\"text-align: right;\">\n",
       "      <th></th>\n",
       "      <th>text</th>\n",
       "      <th>label</th>\n",
       "      <th>text1</th>\n",
       "    </tr>\n",
       "  </thead>\n",
       "  <tbody>\n",
       "    <tr>\n",
       "      <th>0</th>\n",
       "      <td>dear american teens question dutch person hear...</td>\n",
       "      <td>0</td>\n",
       "      <td>dear american teens question dutch person hear...</td>\n",
       "    </tr>\n",
       "    <tr>\n",
       "      <th>1</th>\n",
       "      <td>nothing look forward lifei dont many reasons k...</td>\n",
       "      <td>1</td>\n",
       "      <td>nothing look forward lifei dont many reasons k...</td>\n",
       "    </tr>\n",
       "    <tr>\n",
       "      <th>2</th>\n",
       "      <td>music recommendations im looking expand playli...</td>\n",
       "      <td>0</td>\n",
       "      <td>music recommendations im looking expand playli...</td>\n",
       "    </tr>\n",
       "    <tr>\n",
       "      <th>3</th>\n",
       "      <td>im done trying feel betterthe reason im still ...</td>\n",
       "      <td>1</td>\n",
       "      <td>im done trying feel betterthe reason im still ...</td>\n",
       "    </tr>\n",
       "    <tr>\n",
       "      <th>4</th>\n",
       "      <td>worried  year old girl subject domestic physic...</td>\n",
       "      <td>1</td>\n",
       "      <td>worried year old girl subject domestic physica...</td>\n",
       "    </tr>\n",
       "    <tr>\n",
       "      <th>...</th>\n",
       "      <td>...</td>\n",
       "      <td>...</td>\n",
       "      <td>...</td>\n",
       "    </tr>\n",
       "    <tr>\n",
       "      <th>27972</th>\n",
       "      <td>posting everyday people stop caring  religion ...</td>\n",
       "      <td>0</td>\n",
       "      <td>posting everyday people stop caring religion m...</td>\n",
       "    </tr>\n",
       "    <tr>\n",
       "      <th>27973</th>\n",
       "      <td>okay definetly need hear guys opinion ive pret...</td>\n",
       "      <td>0</td>\n",
       "      <td>okay definetly need hear guys opinion ive pret...</td>\n",
       "    </tr>\n",
       "    <tr>\n",
       "      <th>27974</th>\n",
       "      <td>cant get dog think ill kill myselfthe last thi...</td>\n",
       "      <td>1</td>\n",
       "      <td>cant get dog think ill kill myselfthe last thi...</td>\n",
       "    </tr>\n",
       "    <tr>\n",
       "      <th>27975</th>\n",
       "      <td>whats point princess bridei really think like ...</td>\n",
       "      <td>1</td>\n",
       "      <td>whats point princess bridei really think like ...</td>\n",
       "    </tr>\n",
       "    <tr>\n",
       "      <th>27976</th>\n",
       "      <td>got nudes person might might know snapchat do ...</td>\n",
       "      <td>0</td>\n",
       "      <td>got nudes person might might know snapchat ok ...</td>\n",
       "    </tr>\n",
       "  </tbody>\n",
       "</table>\n",
       "<p>27972 rows × 3 columns</p>\n",
       "</div>"
      ],
      "text/plain": [
       "                                                    text  label  \\\n",
       "0      dear american teens question dutch person hear...      0   \n",
       "1      nothing look forward lifei dont many reasons k...      1   \n",
       "2      music recommendations im looking expand playli...      0   \n",
       "3      im done trying feel betterthe reason im still ...      1   \n",
       "4      worried  year old girl subject domestic physic...      1   \n",
       "...                                                  ...    ...   \n",
       "27972  posting everyday people stop caring  religion ...      0   \n",
       "27973  okay definetly need hear guys opinion ive pret...      0   \n",
       "27974  cant get dog think ill kill myselfthe last thi...      1   \n",
       "27975  whats point princess bridei really think like ...      1   \n",
       "27976  got nudes person might might know snapchat do ...      0   \n",
       "\n",
       "                                                   text1  \n",
       "0      dear american teens question dutch person hear...  \n",
       "1      nothing look forward lifei dont many reasons k...  \n",
       "2      music recommendations im looking expand playli...  \n",
       "3      im done trying feel betterthe reason im still ...  \n",
       "4      worried year old girl subject domestic physica...  \n",
       "...                                                  ...  \n",
       "27972  posting everyday people stop caring religion m...  \n",
       "27973  okay definetly need hear guys opinion ive pret...  \n",
       "27974  cant get dog think ill kill myselfthe last thi...  \n",
       "27975  whats point princess bridei really think like ...  \n",
       "27976  got nudes person might might know snapchat ok ...  \n",
       "\n",
       "[27972 rows x 3 columns]"
      ]
     },
     "execution_count": 14,
     "metadata": {},
     "output_type": "execute_result"
    }
   ],
   "source": [
    "# pd.options.mode.copy_on_write = True\n",
    "df['text1'] = (df['text'].apply(remove_stopwords))\n",
    "df"
   ]
  },
  {
   "cell_type": "code",
   "execution_count": 15,
   "id": "f3bf9ea8-3954-4074-9a91-1e5b5b5037e9",
   "metadata": {},
   "outputs": [
    {
     "data": {
      "text/plain": [
       "0        dear american teens question dutch person hear...\n",
       "1        nothing look forward lifei dont many reasons k...\n",
       "2        music recommendations im looking expand playli...\n",
       "3        im done trying feel betterthe reason im still ...\n",
       "4        worried year old girl subject domestic physica...\n",
       "                               ...                        \n",
       "27972    posting everyday people stop caring religion m...\n",
       "27973    okay definetly need hear guys opinion ive pret...\n",
       "27974    cant get dog think ill kill myselfthe last thi...\n",
       "27975    whats point princess bridei really think like ...\n",
       "27976    got nudes person might might know snapchat ok ...\n",
       "Name: text1, Length: 27972, dtype: object"
      ]
     },
     "execution_count": 15,
     "metadata": {},
     "output_type": "execute_result"
    }
   ],
   "source": [
    "msg = df['text1'].str.replace('[^a-zA-Z0-9 ]+',\" \", regex = True)\n",
    "msg"
   ]
  },
  {
   "cell_type": "code",
   "execution_count": 16,
   "id": "c7d3a0d7-9b78-4079-84fd-83573a00064b",
   "metadata": {},
   "outputs": [],
   "source": [
    "lemmatizer = WordNetLemmatizer()\n",
    "data = []"
   ]
  },
  {
   "cell_type": "code",
   "execution_count": 17,
   "id": "ff5cd983-91ed-4417-91fb-2dcd1404795e",
   "metadata": {},
   "outputs": [
    {
     "name": "stderr",
     "output_type": "stream",
     "text": [
      "[nltk_data] Downloading package wordnet to\n",
      "[nltk_data]     C:\\Users\\kusur\\AppData\\Roaming\\nltk_data...\n",
      "[nltk_data]   Package wordnet is already up-to-date!\n",
      "C:\\Users\\kusur\\AppData\\Local\\Temp\\ipykernel_13668\\264036439.py:21: SettingWithCopyWarning: \n",
      "A value is trying to be set on a copy of a slice from a DataFrame.\n",
      "Try using .loc[row_indexer,col_indexer] = value instead\n",
      "\n",
      "See the caveats in the documentation: https://pandas.pydata.org/pandas-docs/stable/user_guide/indexing.html#returning-a-view-versus-a-copy\n",
      "  df['preprocessed_text'] = msg.apply(preprocess_text)\n"
     ]
    }
   ],
   "source": [
    "import nltk\n",
    "nltk.download('wordnet')\n",
    "\n",
    "def preprocess_text(text):\n",
    "\n",
    "    #tokenize the text\n",
    "    tokens = word_tokenize(text)\n",
    "\n",
    "    #Filter tokens with length greater than 2\n",
    "    filtered_tokens = [ token for token in tokens if len(token) > 3]\n",
    "\n",
    "    #Stem each token \n",
    "    lemmed_tokens = [lemmatizer.lemmatize(token.lower()) for token in filtered_tokens]\n",
    "\n",
    "    #Join stemmed tokens into a single string\n",
    "    preprocessed_text = \" \".join(lemmed_tokens)\n",
    "\n",
    "    return preprocessed_text\n",
    "\n",
    "#Apply text preprocessing to each row of the Dataframe\n",
    "df['preprocessed_text'] = msg.apply(preprocess_text)\n"
   ]
  },
  {
   "cell_type": "code",
   "execution_count": 18,
   "id": "ef05362c-c483-495d-88b1-ebc7fef4a57a",
   "metadata": {},
   "outputs": [
    {
     "name": "stdout",
     "output_type": "stream",
     "text": [
      "  (0, 35255)\t0.21805636791047633\n",
      "  (0, 48216)\t0.11455966748601445\n",
      "  (0, 33204)\t0.07123588556785876\n",
      "  (0, 23766)\t0.32202234022472354\n",
      "  (0, 57707)\t0.36934655986537956\n",
      "  (0, 53107)\t0.33362148721649937\n",
      "  (0, 32593)\t0.38735609571127644\n",
      "  (0, 57230)\t0.09361828650239136\n",
      "  (0, 16873)\t0.19328952859648735\n",
      "  (0, 24597)\t0.28870085668457957\n",
      "  (0, 25575)\t0.18102028820757218\n",
      "  (0, 42614)\t0.12343473078158108\n",
      "  (0, 16698)\t0.3002471227558296\n",
      "  (0, 45622)\t0.16067665532475164\n",
      "  (0, 56491)\t0.1972669310104924\n",
      "  (0, 1994)\t0.19994961562382382\n",
      "  (0, 13402)\t0.24587057645074326\n",
      "  (1, 25004)\t0.2873925061906826\n",
      "  (1, 62328)\t0.12651668698274063\n",
      "  (1, 34675)\t0.15353781963514543\n",
      "  (1, 38799)\t0.23339466020132368\n",
      "  (1, 20098)\t0.136135862235505\n",
      "  (1, 23404)\t0.31643686919479724\n",
      "  (1, 31425)\t0.3897060157687242\n",
      "  (1, 46442)\t0.20362226046092885\n",
      "  :\t:\n",
      "  (27970, 33204)\t0.1345091865155537\n",
      "  (27971, 64552)\t0.2786093184296345\n",
      "  (27971, 9308)\t0.2221645021076324\n",
      "  (27971, 39701)\t0.4283972918092418\n",
      "  (27971, 52538)\t0.1903342034460561\n",
      "  (27971, 663)\t0.18944583375682822\n",
      "  (27971, 47744)\t0.1796409875530691\n",
      "  (27971, 52541)\t0.21044621941042377\n",
      "  (27971, 36385)\t0.345833069185586\n",
      "  (27971, 28221)\t0.1235724182839735\n",
      "  (27971, 40546)\t0.18517022240935782\n",
      "  (27971, 11855)\t0.16193144303742724\n",
      "  (27971, 622)\t0.10871342452803585\n",
      "  (27971, 57510)\t0.08844810867257889\n",
      "  (27971, 20594)\t0.10044250910687517\n",
      "  (27971, 64275)\t0.11737774034117239\n",
      "  (27971, 52961)\t0.0908145522477066\n",
      "  (27971, 55587)\t0.10899618928695337\n",
      "  (27971, 49786)\t0.09970962124037455\n",
      "  (27971, 50637)\t0.15769956661146567\n",
      "  (27971, 18545)\t0.07384090787886292\n",
      "  (27971, 31850)\t0.3259071121691592\n",
      "  (27971, 15901)\t0.1763860392748809\n",
      "  (27971, 33921)\t0.10635020493432121\n",
      "  (27971, 42614)\t0.3047997818926777\n"
     ]
    }
   ],
   "source": [
    "from sklearn.feature_extraction.text import TfidfVectorizer\n",
    "tf = TfidfVectorizer()\n",
    "data_vec = tf.fit_transform(df['preprocessed_text'])\n",
    "print(data_vec)\n"
   ]
  },
  {
   "cell_type": "code",
   "execution_count": 19,
   "id": "aa572516-6169-4afd-bbdd-ca29bcfacde2",
   "metadata": {},
   "outputs": [
    {
     "name": "stderr",
     "output_type": "stream",
     "text": [
      "C:\\Users\\kusur\\AppData\\Local\\Temp\\ipykernel_13668\\1379239828.py:1: SettingWithCopyWarning: \n",
      "A value is trying to be set on a copy of a slice from a DataFrame.\n",
      "Try using .loc[row_indexer,col_indexer] = value instead\n",
      "\n",
      "See the caveats in the documentation: https://pandas.pydata.org/pandas-docs/stable/user_guide/indexing.html#returning-a-view-versus-a-copy\n",
      "  df['text_length'] = df['preprocessed_text'].apply(lambda x: len(str(x).split()))\n"
     ]
    }
   ],
   "source": [
    "df['text_length'] = df['preprocessed_text'].apply(lambda x: len(str(x).split()))"
   ]
  },
  {
   "cell_type": "code",
   "execution_count": 20,
   "id": "de5f809f-b38b-46e2-87b3-1fa089184172",
   "metadata": {},
   "outputs": [],
   "source": [
    "df = df.drop(['text','text1'],axis=1)"
   ]
  },
  {
   "cell_type": "code",
   "execution_count": 21,
   "id": "89e80b84-30a2-4418-8802-3dc9a1daaa72",
   "metadata": {},
   "outputs": [
    {
     "data": {
      "text/html": [
       "<div>\n",
       "<style scoped>\n",
       "    .dataframe tbody tr th:only-of-type {\n",
       "        vertical-align: middle;\n",
       "    }\n",
       "\n",
       "    .dataframe tbody tr th {\n",
       "        vertical-align: top;\n",
       "    }\n",
       "\n",
       "    .dataframe thead th {\n",
       "        text-align: right;\n",
       "    }\n",
       "</style>\n",
       "<table border=\"1\" class=\"dataframe\">\n",
       "  <thead>\n",
       "    <tr style=\"text-align: right;\">\n",
       "      <th></th>\n",
       "      <th>label</th>\n",
       "      <th>preprocessed_text</th>\n",
       "      <th>text_length</th>\n",
       "    </tr>\n",
       "  </thead>\n",
       "  <tbody>\n",
       "    <tr>\n",
       "      <th>0</th>\n",
       "      <td>0</td>\n",
       "      <td>dear american teen question dutch person heard...</td>\n",
       "      <td>19</td>\n",
       "    </tr>\n",
       "    <tr>\n",
       "      <th>1</th>\n",
       "      <td>1</td>\n",
       "      <td>nothing look forward lifei dont many reason ke...</td>\n",
       "      <td>18</td>\n",
       "    </tr>\n",
       "    <tr>\n",
       "      <th>2</th>\n",
       "      <td>0</td>\n",
       "      <td>music recommendation looking expand playlist u...</td>\n",
       "      <td>48</td>\n",
       "    </tr>\n",
       "    <tr>\n",
       "      <th>3</th>\n",
       "      <td>1</td>\n",
       "      <td>done trying feel betterthe reason still alive ...</td>\n",
       "      <td>79</td>\n",
       "    </tr>\n",
       "    <tr>\n",
       "      <th>4</th>\n",
       "      <td>1</td>\n",
       "      <td>worried year girl subject domestic physicalmen...</td>\n",
       "      <td>269</td>\n",
       "    </tr>\n",
       "  </tbody>\n",
       "</table>\n",
       "</div>"
      ],
      "text/plain": [
       "   label                                  preprocessed_text  text_length\n",
       "0      0  dear american teen question dutch person heard...           19\n",
       "1      1  nothing look forward lifei dont many reason ke...           18\n",
       "2      0  music recommendation looking expand playlist u...           48\n",
       "3      1  done trying feel betterthe reason still alive ...           79\n",
       "4      1  worried year girl subject domestic physicalmen...          269"
      ]
     },
     "execution_count": 21,
     "metadata": {},
     "output_type": "execute_result"
    }
   ],
   "source": [
    "df.head()"
   ]
  },
  {
   "cell_type": "code",
   "execution_count": 22,
   "id": "74ce1939-f289-4818-8843-819cfe1cecba",
   "metadata": {},
   "outputs": [
    {
     "data": {
      "text/plain": [
       "array([0, 1, 0, ..., 1, 1, 0], dtype=int64)"
      ]
     },
     "execution_count": 22,
     "metadata": {},
     "output_type": "execute_result"
    }
   ],
   "source": [
    "y = df['label'].values\n",
    "y"
   ]
  },
  {
   "cell_type": "code",
   "execution_count": 23,
   "id": "84cd4dd3-9344-476e-967b-f9d81b0ad42e",
   "metadata": {},
   "outputs": [],
   "source": [
    "from sklearn.model_selection import train_test_split\n",
    "x_train, x_test, y_train, y_test = train_test_split(data_vec, y, test_size=0.3, random_state=1)"
   ]
  },
  {
   "cell_type": "code",
   "execution_count": 24,
   "id": "108805db-09e3-4dd0-9687-a7895b318655",
   "metadata": {},
   "outputs": [
    {
     "name": "stdout",
     "output_type": "stream",
     "text": [
      "              precision    recall  f1-score   support\n",
      "\n",
      "           0       0.89      0.94      0.91      4271\n",
      "           1       0.93      0.88      0.91      4121\n",
      "\n",
      "    accuracy                           0.91      8392\n",
      "   macro avg       0.91      0.91      0.91      8392\n",
      "weighted avg       0.91      0.91      0.91      8392\n",
      "\n"
     ]
    }
   ],
   "source": [
    "from sklearn.svm import SVC\n",
    "from sklearn.metrics import classification_report, accuracy_score\n",
    "sv = SVC()\n",
    "sv.fit(x_train,y_train)\n",
    "y_pred = sv.predict(x_test)\n",
    "print(classification_report(y_test,y_pred))"
   ]
  },
  {
   "cell_type": "code",
   "execution_count": 25,
   "id": "fc799a6c-c01a-44ff-bcc5-a0d15c0058f1",
   "metadata": {},
   "outputs": [
    {
     "data": {
      "text/plain": [
       "0.9101525262154433"
      ]
     },
     "execution_count": 25,
     "metadata": {},
     "output_type": "execute_result"
    }
   ],
   "source": [
    "sv_acc = accuracy_score(y_test,y_pred)\n",
    "sv_acc"
   ]
  },
  {
   "cell_type": "code",
   "execution_count": 26,
   "id": "0c03b92a-cf4b-4967-bc2a-677c50c83560",
   "metadata": {},
   "outputs": [
    {
     "name": "stdout",
     "output_type": "stream",
     "text": [
      "              precision    recall  f1-score   support\n",
      "\n",
      "           0       0.81      0.83      0.82      4271\n",
      "           1       0.82      0.80      0.81      4121\n",
      "\n",
      "    accuracy                           0.81      8392\n",
      "   macro avg       0.81      0.81      0.81      8392\n",
      "weighted avg       0.81      0.81      0.81      8392\n",
      "\n",
      "0.8129170638703527\n"
     ]
    }
   ],
   "source": [
    "from sklearn.tree import DecisionTreeClassifier\n",
    "Dt = DecisionTreeClassifier()\n",
    "Dt.fit(x_train,y_train)\n",
    "y_pred = Dt.predict(x_test)\n",
    "print(classification_report(y_test,y_pred))\n",
    "print(accuracy_score(y_test,y_pred))"
   ]
  },
  {
   "cell_type": "code",
   "execution_count": 27,
   "id": "b473d38d-d645-48e1-8f6f-57344a3b5dc0",
   "metadata": {},
   "outputs": [
    {
     "data": {
      "text/plain": [
       "0.8129170638703527"
      ]
     },
     "execution_count": 27,
     "metadata": {},
     "output_type": "execute_result"
    }
   ],
   "source": [
    "dt_acc = accuracy_score(y_test,y_pred)\n",
    "dt_acc"
   ]
  },
  {
   "cell_type": "code",
   "execution_count": 28,
   "id": "f1a51dee-0111-4a40-9b83-b4bd4b1e9703",
   "metadata": {},
   "outputs": [
    {
     "name": "stdout",
     "output_type": "stream",
     "text": [
      "              precision    recall  f1-score   support\n",
      "\n",
      "           0       0.88      0.91      0.89      4271\n",
      "           1       0.90      0.87      0.88      4121\n",
      "\n",
      "    accuracy                           0.89      8392\n",
      "   macro avg       0.89      0.89      0.89      8392\n",
      "weighted avg       0.89      0.89      0.89      8392\n",
      "\n",
      "0.8887035271687321\n"
     ]
    }
   ],
   "source": [
    "from sklearn.ensemble import RandomForestClassifier\n",
    "rf = RandomForestClassifier()\n",
    "rf.fit(x_train,y_train)\n",
    "y_pred = rf.predict(x_test)\n",
    "print(classification_report(y_test,y_pred))\n",
    "print(accuracy_score(y_test,y_pred))"
   ]
  },
  {
   "cell_type": "code",
   "execution_count": 29,
   "id": "103aa9aa-b8e8-4228-87be-bfbda4c41b38",
   "metadata": {},
   "outputs": [
    {
     "data": {
      "text/plain": [
       "0.8887035271687321"
      ]
     },
     "execution_count": 29,
     "metadata": {},
     "output_type": "execute_result"
    }
   ],
   "source": [
    "Rf_acc = accuracy_score(y_test,y_pred)\n",
    "Rf_acc"
   ]
  },
  {
   "cell_type": "code",
   "execution_count": 30,
   "id": "80c68941-58ac-4aad-9021-9dbb69781369",
   "metadata": {
    "scrolled": true
   },
   "outputs": [
    {
     "name": "stdout",
     "output_type": "stream",
     "text": [
      "              precision    recall  f1-score   support\n",
      "\n",
      "           0       0.80      0.89      0.84      4271\n",
      "           1       0.87      0.76      0.81      4121\n",
      "\n",
      "    accuracy                           0.83      8392\n",
      "   macro avg       0.83      0.83      0.83      8392\n",
      "weighted avg       0.83      0.83      0.83      8392\n",
      "\n",
      "0.8286463298379408\n"
     ]
    }
   ],
   "source": [
    "from sklearn.ensemble import AdaBoostClassifier\n",
    "# clf = AdaBoostClassifier(algorithm='SAMME')\n",
    "\n",
    "ab = AdaBoostClassifier(algorithm='SAMME')\n",
    "ab.fit(x_train,y_train)\n",
    "y_pred = ab.predict(x_test)\n",
    "print(classification_report(y_test,y_pred))\n",
    "print(accuracy_score(y_test,y_pred))"
   ]
  },
  {
   "cell_type": "code",
   "execution_count": 31,
   "id": "1f4417e6-b111-496e-bc35-91825f13f178",
   "metadata": {},
   "outputs": [
    {
     "data": {
      "text/plain": [
       "0.8286463298379408"
      ]
     },
     "execution_count": 31,
     "metadata": {},
     "output_type": "execute_result"
    }
   ],
   "source": [
    "ab_acc = accuracy_score(y_test,y_pred)\n",
    "ab_acc"
   ]
  },
  {
   "cell_type": "code",
   "execution_count": 32,
   "id": "7a5118c1-c74f-423a-bb27-00adb825a348",
   "metadata": {},
   "outputs": [
    {
     "name": "stdout",
     "output_type": "stream",
     "text": [
      "              precision    recall  f1-score   support\n",
      "\n",
      "           0       0.83      0.92      0.87      4271\n",
      "           1       0.90      0.81      0.85      4121\n",
      "\n",
      "    accuracy                           0.86      8392\n",
      "   macro avg       0.87      0.86      0.86      8392\n",
      "weighted avg       0.87      0.86      0.86      8392\n",
      "\n",
      "0.8616539561487131\n"
     ]
    }
   ],
   "source": [
    "from sklearn.ensemble import GradientBoostingClassifier\n",
    "gb = GradientBoostingClassifier()\n",
    "gb.fit(x_train,y_train)\n",
    "y_pred = gb.predict(x_test)\n",
    "print(classification_report(y_test,y_pred))\n",
    "print(accuracy_score(y_test,y_pred))\n"
   ]
  },
  {
   "cell_type": "code",
   "execution_count": 33,
   "id": "07ab4566-1ec4-4d00-bb7b-6abe8b0f327e",
   "metadata": {},
   "outputs": [
    {
     "data": {
      "text/plain": [
       "0.8616539561487131"
      ]
     },
     "execution_count": 33,
     "metadata": {},
     "output_type": "execute_result"
    }
   ],
   "source": [
    "gb_acc = accuracy_score(y_test,y_pred)\n",
    "gb_acc"
   ]
  },
  {
   "cell_type": "code",
   "execution_count": 34,
   "id": "92cf3185-dd30-4166-8762-f2f574f1dfce",
   "metadata": {},
   "outputs": [
    {
     "name": "stdout",
     "output_type": "stream",
     "text": [
      "              precision    recall  f1-score   support\n",
      "\n",
      "           0       0.89      0.94      0.91      4271\n",
      "           1       0.93      0.88      0.90      4121\n",
      "\n",
      "    accuracy                           0.91      8392\n",
      "   macro avg       0.91      0.91      0.91      8392\n",
      "weighted avg       0.91      0.91      0.91      8392\n",
      "\n",
      "0.907650142993327\n"
     ]
    }
   ],
   "source": [
    "from sklearn.linear_model import LogisticRegression\n",
    "lr = LogisticRegression()\n",
    "lr.fit(x_train,y_train)\n",
    "y_pred = lr.predict(x_test)\n",
    "print(classification_report(y_test,y_pred))\n",
    "print(accuracy_score(y_test,y_pred))"
   ]
  },
  {
   "cell_type": "code",
   "execution_count": 35,
   "id": "0ccd5fa1-dc39-4dea-a339-272fda551208",
   "metadata": {},
   "outputs": [
    {
     "data": {
      "text/plain": [
       "0.907650142993327"
      ]
     },
     "execution_count": 35,
     "metadata": {},
     "output_type": "execute_result"
    }
   ],
   "source": [
    "lr_acc = accuracy_score(y_test,y_pred)\n",
    "lr_acc"
   ]
  },
  {
   "cell_type": "code",
   "execution_count": 36,
   "id": "0a81a04d-b7bf-42cf-b6bd-fd54e74f4e8c",
   "metadata": {},
   "outputs": [
    {
     "data": {
      "text/html": [
       "<div>\n",
       "<style scoped>\n",
       "    .dataframe tbody tr th:only-of-type {\n",
       "        vertical-align: middle;\n",
       "    }\n",
       "\n",
       "    .dataframe tbody tr th {\n",
       "        vertical-align: top;\n",
       "    }\n",
       "\n",
       "    .dataframe thead th {\n",
       "        text-align: right;\n",
       "    }\n",
       "</style>\n",
       "<table border=\"1\" class=\"dataframe\">\n",
       "  <thead>\n",
       "    <tr style=\"text-align: right;\">\n",
       "      <th></th>\n",
       "      <th>Model</th>\n",
       "      <th>Score</th>\n",
       "    </tr>\n",
       "  </thead>\n",
       "  <tbody>\n",
       "    <tr>\n",
       "      <th>0</th>\n",
       "      <td>Support Vector Machine</td>\n",
       "      <td>0.910153</td>\n",
       "    </tr>\n",
       "    <tr>\n",
       "      <th>1</th>\n",
       "      <td>Decision Tree</td>\n",
       "      <td>0.812917</td>\n",
       "    </tr>\n",
       "    <tr>\n",
       "      <th>2</th>\n",
       "      <td>RandomForest</td>\n",
       "      <td>0.888704</td>\n",
       "    </tr>\n",
       "    <tr>\n",
       "      <th>3</th>\n",
       "      <td>AdaBoost</td>\n",
       "      <td>0.828646</td>\n",
       "    </tr>\n",
       "    <tr>\n",
       "      <th>4</th>\n",
       "      <td>GradientBoosting</td>\n",
       "      <td>0.861654</td>\n",
       "    </tr>\n",
       "    <tr>\n",
       "      <th>5</th>\n",
       "      <td>Logistic Regression</td>\n",
       "      <td>0.907650</td>\n",
       "    </tr>\n",
       "  </tbody>\n",
       "</table>\n",
       "</div>"
      ],
      "text/plain": [
       "                    Model     Score\n",
       "0  Support Vector Machine  0.910153\n",
       "1           Decision Tree  0.812917\n",
       "2            RandomForest  0.888704\n",
       "3                AdaBoost  0.828646\n",
       "4        GradientBoosting  0.861654\n",
       "5     Logistic Regression  0.907650"
      ]
     },
     "execution_count": 36,
     "metadata": {},
     "output_type": "execute_result"
    }
   ],
   "source": [
    "model = pd.DataFrame({'Model':['Support Vector Machine','Decision Tree','RandomForest','AdaBoost','GradientBoosting','Logistic Regression'],\n",
    "                     'Score':[sv_acc,dt_acc,Rf_acc,ab_acc,gb_acc,lr_acc],\n",
    "                     })\n",
    "model"
   ]
  },
  {
   "cell_type": "code",
   "execution_count": 37,
   "id": "7dc951d9-d09b-4fae-b38f-9841b37162da",
   "metadata": {},
   "outputs": [
    {
     "name": "stdout",
     "output_type": "stream",
     "text": [
      "Negative\n"
     ]
    }
   ],
   "source": [
    "y_new = sv.predict(tf.transform([\"I'm overwhelmed with anxiety about the future.\"]))\n",
    "# y_new[0]\n",
    "if y_new == 1:\n",
    "    print(\"Positive\")\n",
    "if y_new == 0:\n",
    "    print(\"Negative\")"
   ]
  },
  {
   "cell_type": "code",
   "execution_count": 38,
   "id": "de6911fe-2d28-4ed0-b73a-f2b01d2a13bd",
   "metadata": {},
   "outputs": [
    {
     "name": "stdout",
     "output_type": "stream",
     "text": [
      "Negative\n"
     ]
    }
   ],
   "source": [
    "y_new = sv.predict(tf.transform([\"I had a great time with friends last night.\"]))\n",
    "if y_new == 1:\n",
    "    print(\"Positive\")\n",
    "if y_new == 0:\n",
    "    print(\"Negative\")"
   ]
  },
  {
   "cell_type": "code",
   "execution_count": 42,
   "id": "9cbd98b3-455f-4c66-a2bc-f53d652edffb",
   "metadata": {},
   "outputs": [],
   "source": [
    "import pickle\n",
    "import warnings\n",
    "\n",
    "pickle.dump(sv,open(\"model.pkl\",\"wb\"))"
   ]
  },
  {
   "cell_type": "code",
   "execution_count": 46,
   "id": "e918c624-272c-420d-ab3b-5d741c55c1a3",
   "metadata": {},
   "outputs": [
    {
     "data": {
      "text/plain": [
       "['tf.pkl']"
      ]
     },
     "execution_count": 46,
     "metadata": {},
     "output_type": "execute_result"
    }
   ],
   "source": [
    "import joblib\n",
    "joblib.dump(tf,'tf.pkl')"
   ]
  },
  {
   "cell_type": "code",
   "execution_count": null,
   "id": "b03cacc7-71be-4ad2-ba93-ed3e859614d7",
   "metadata": {},
   "outputs": [],
   "source": []
  }
 ],
 "metadata": {
  "kernelspec": {
   "display_name": "Python 3 (ipykernel)",
   "language": "python",
   "name": "python3"
  },
  "language_info": {
   "codemirror_mode": {
    "name": "ipython",
    "version": 3
   },
   "file_extension": ".py",
   "mimetype": "text/x-python",
   "name": "python",
   "nbconvert_exporter": "python",
   "pygments_lexer": "ipython3",
   "version": "3.12.4"
  }
 },
 "nbformat": 4,
 "nbformat_minor": 5
}
